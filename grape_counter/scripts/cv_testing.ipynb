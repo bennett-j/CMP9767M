{
 "cells": [
  {
   "cell_type": "code",
   "execution_count": 1,
   "metadata": {},
   "outputs": [],
   "source": [
    "import cv2\n",
    "import os\n",
    "from matplotlib import pyplot as plt\n",
    "import numpy as np"
   ]
  },
  {
   "cell_type": "code",
   "execution_count": 2,
   "metadata": {},
   "outputs": [],
   "source": [
    "im_name = 'grapes2.png'\n",
    "path = os.path.join(os.path.expanduser('~'), 'cmp9767_ws/src/CMP9767/grape_counter', im_name)\n",
    "im = cv2.imread(path)\n",
    "#im = cv2.resize(im, None, fx=0.5, fy=0.5, interpolation = cv2.INTER_CUBIC)\n",
    "\n",
    "cv2.imshow('Raw Image', im)\n",
    "cv2.waitKey(0) \n",
    "cv2.destroyAllWindows() "
   ]
  },
  {
   "cell_type": "code",
   "execution_count": 10,
   "metadata": {},
   "outputs": [],
   "source": [
    "blur = cv2.GaussianBlur(im,(5,5),0)\n",
    "cv2.imshow('Raw Image', im)\n",
    "cv2.imshow('Bl ur', blur)\n",
    "cv2.waitKey(0) \n",
    "cv2.destroyAllWindows() "
   ]
  },
  {
   "cell_type": "code",
   "execution_count": 13,
   "metadata": {},
   "outputs": [],
   "source": [
    "hsv = cv2.cvtColor(blur, cv2.COLOR_BGR2HSV)\n",
    "mask1 = cv2.inRange(hsv, (75, 0, 25), (150, 150, 75))\n",
    "cv2.imshow(\"grapes?\", mask1)\n",
    "cv2.imshow('hsv',hsv)\n",
    "cv2.waitKey(0)\n",
    "cv2.destroyAllWindows()"
   ]
  },
  {
   "cell_type": "code",
   "execution_count": 12,
   "metadata": {},
   "outputs": [
    {
     "name": "stdout",
     "output_type": "stream",
     "text": [
      "267\n"
     ]
    }
   ],
   "source": [
    "import random as rng\n",
    "\n",
    "#https://docs.opencv.org/3.4/df/d0d/tutorial_find_contours.html\n",
    "#https://docs.opencv.org/4.x/d3/dc0/group__imgproc__shape.html#ga819779b9857cc2f8601e6526a3a5bc71\n",
    "# using RETR_EXTERNAL to only get extreme outer contours (not holes inside objects) in one test gets from 267>139 contours\n",
    "# CHAIN_APPROX_NONE maybe use _SIMPLE\n",
    "\n",
    "# Find contours\n",
    "_, contours, hierarchy = cv2.findContours(mask1, cv2.RETR_TREE, cv2.CHAIN_APPROX_NONE)\n",
    "# Draw contours\n",
    "drawing_tree = np.zeros((mask1.shape[0], mask1.shape[1], 3), dtype=np.uint8)\n",
    "for i in range(len(contours)):\n",
    "    color = (rng.randint(0,256), rng.randint(0,256), rng.randint(0,256))\n",
    "    cv2.drawContours(drawing_tree, contours, i, color, 2, cv2.LINE_8, hierarchy, 0)\n",
    "# Show in a window\n",
    "cv2.imshow('Contours', drawing_tree)\n",
    "\n",
    "# print(len(contours))\n",
    "\n",
    "# Find contours\n",
    "_, contours, hierarchy = cv2.findContours(mask1, cv2.RETR_EXTERNAL, cv2.CHAIN_APPROX_NONE)\n",
    "# Draw contours\n",
    "drawing_ext = np.zeros((mask1.shape[0], mask1.shape[1], 3), dtype=np.uint8)\n",
    "for i in range(len(contours)):\n",
    "    color = (rng.randint(0,256), rng.randint(0,256), rng.randint(0,256))\n",
    "    cv2.drawContours(drawing_ext, contours, i, color, 2, cv2.LINE_8, hierarchy, 0)\n",
    "# Show in a window\n",
    "\n",
    "cv2.imshow('Contours ext', drawing_ext)\n",
    "cv2.waitKey(0)\n",
    "cv2.destroyAllWindows()"
   ]
  },
  {
   "cell_type": "code",
   "execution_count": 18,
   "metadata": {},
   "outputs": [],
   "source": [
    "#kernel = np.ones((5,5),np.uint8)\n",
    "kernel = cv2.getStructuringElement(cv2.MORPH_ELLIPSE,(5,5))\n",
    "erosion = cv2.erode(mask1,kernel,iterations = 1)\n",
    "dilation = cv2.dilate(mask1,kernel,iterations = 1)\n",
    "opening = cv2.morphologyEx(mask1, cv2.MORPH_OPEN, kernel)\n",
    "closing = cv2.morphologyEx(mask1, cv2.MORPH_CLOSE, kernel)\n",
    "\n",
    "cv2.imshow(\"grapes?\", mask1)\n",
    "cv2.imshow('erosion', erosion)\n",
    "cv2.imshow('dilation', dilation)\n",
    "cv2.imshow('opening', opening)\n",
    "cv2.imshow('closing', closing)\n",
    "cv2.waitKey(0)\n",
    "cv2.destroyAllWindows()"
   ]
  },
  {
   "cell_type": "code",
   "execution_count": 20,
   "metadata": {},
   "outputs": [],
   "source": [
    "kernel_e3 = cv2.getStructuringElement(cv2.MORPH_ELLIPSE,(3,3))\n",
    "kernel_e5 = cv2.getStructuringElement(cv2.MORPH_ELLIPSE,(5,5))\n",
    "kernel_r3 = cv2.getStructuringElement(cv2.MORPH_RECT,(3,3))\n",
    "kernel_c3 = cv2.getStructuringElement(cv2.MORPH_CROSS,(3,3))\n",
    "\n",
    "\n",
    "opening1 = cv2.morphologyEx(mask1, cv2.MORPH_OPEN, kernel_e3)\n",
    "opening2 = cv2.morphologyEx(mask1, cv2.MORPH_OPEN, kernel_e5)\n",
    "opening3 = cv2.morphologyEx(mask1, cv2.MORPH_OPEN, kernel_r3)\n",
    "opening4 = cv2.morphologyEx(mask1, cv2.MORPH_OPEN, kernel_c3)\n",
    "\n",
    "\n",
    "cv2.imshow(\"grapes?\", mask1)\n",
    "cv2.imshow('oe3', opening1)\n",
    "cv2.imshow('oe5', opening2)\n",
    "cv2.imshow('or3', opening3)\n",
    "cv2.imshow('oc3', opening4)\n",
    "cv2.waitKey(0)\n",
    "cv2.destroyAllWindows()"
   ]
  },
  {
   "cell_type": "code",
   "execution_count": 25,
   "metadata": {},
   "outputs": [],
   "source": [
    "kernel_e3 = cv2.getStructuringElement(cv2.MORPH_ELLIPSE,(3,3))\n",
    "kernel_e5 = cv2.getStructuringElement(cv2.MORPH_ELLIPSE,(5,5))\n",
    "#opening = cv2.morphologyEx(mask1, cv2.MORPH_OPEN, kernel)\n",
    "#erosion = cv2.erode(mask1,kernel,iterations = 1)\n",
    "#dilation = cv2.dilate(mask1,kernel,iterations = 2)\n",
    "\n",
    "# full size image has less noise so just do some closing?\n",
    "closing = cv2.morphologyEx(mask1, cv2.MORPH_CLOSE, kernel_e5)\n",
    "\n",
    "morphed = closing\n",
    "\n",
    "cv2.imshow('hsv',hsv)\n",
    "cv2.imshow(\"grapes?\", mask1)\n",
    "cv2.imshow('morphed', morphed)"
   ]
  },
  {
   "cell_type": "code",
   "execution_count": 26,
   "metadata": {},
   "outputs": [],
   "source": [
    "_, contours, hierarchy = cv2.findContours(morphed, cv2.RETR_EXTERNAL, cv2.CHAIN_APPROX_NONE)\n",
    "areas = np.empty(len(contours))\n",
    "\n",
    "for i, c in enumerate(contours):\n",
    "    areas[i] = cv2.contourArea(c)\n",
    "    if areas[i] > 100:\n",
    "        color = (255,0,150)\n",
    "    else:\n",
    "        color = (0,255,255)\n",
    "\n",
    "    cv2.drawContours(drawing_ext, contours, i, color, 2)\n",
    "\n",
    "cv2.imshow('Contours ext', drawing_ext)\n",
    "cv2.waitKey(0)\n",
    "cv2.destroyAllWindows()"
   ]
  },
  {
   "cell_type": "code",
   "execution_count": 19,
   "metadata": {},
   "outputs": [],
   "source": [
    "centroids = []\n",
    "hsv_o = hsv.copy()\n",
    "for c in contours:\n",
    "    M = cv2.moments(c)\n",
    "    cx = int(M['m10']/M['m00'])\n",
    "    cy = int(M['m01']/M['m00'])\n",
    "\n",
    "    centroids.append((cx,cy))\n",
    "\n",
    "    hsv_o = cv2.circle(hsv_o, (cx, cy), 2, (0,255,255), 1)\n",
    "\n",
    "cv2.imshow('Contours ext', drawing_ext)\n",
    "cv2.imshow('centres?', hsv_o)\n",
    "cv2.waitKey(0)\n",
    "cv2.destroyAllWindows()"
   ]
  },
  {
   "cell_type": "markdown",
   "metadata": {},
   "source": [
    "Fairly good results - it's getting the centre of most of the bunches - only appears to be one where it's merged into a big one. Next - do some transforms to get the dots in 3d space?"
   ]
  },
  {
   "cell_type": "code",
   "execution_count": 21,
   "metadata": {},
   "outputs": [
    {
     "data": {
      "image/png": "[encoded data removed]",
      "text/plain": [
       "<matplotlib.figure.Figure at 0x7fe38c3c8710>"
      ]
     },
     "metadata": {
      "needs_background": "light"
     },
     "output_type": "display_data"
    }
   ],
   "source": [
    "areas = np.empty(len(contours))\n",
    "for i, c in enumerate(contours):\n",
    "    areas[i] = cv2.contourArea(c)\n",
    "\n",
    "areas = np.sort(areas)\n",
    "\n",
    "plt.plot(areas)\n",
    "plt.show()\n"
   ]
  },
  {
   "cell_type": "code",
   "execution_count": 24,
   "metadata": {},
   "outputs": [
    {
     "data": {
      "text/plain": [
       "17.0"
      ]
     },
     "execution_count": 24,
     "metadata": {},
     "output_type": "execute_result"
    }
   ],
   "source": [
    "areas[80]"
   ]
  }
 ],
 "metadata": {
  "interpreter": {
   "hash": "767d51c1340bd893661ea55ea3124f6de3c7a262a8b4abca0554b478b1e2ff90"
  },
  "kernelspec": {
   "display_name": "Python 2.7.17 64-bit",
   "language": "python",
   "name": "python3"
  },
  "language_info": {
   "codemirror_mode": {
    "name": "ipython",
    "version": 2
   },
   "file_extension": ".py",
   "mimetype": "text/x-python",
   "name": "python",
   "nbconvert_exporter": "python",
   "pygments_lexer": "ipython2",
   "version": "2.7.17"
  },
  "orig_nbformat": 4
 },
 "nbformat": 4,
 "nbformat_minor": 2
}
